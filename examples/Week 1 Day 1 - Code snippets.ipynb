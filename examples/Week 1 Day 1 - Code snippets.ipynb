{
 "cells": [
  {
   "cell_type": "markdown",
   "metadata": {},
   "source": [
    "I have a list of names and start dates. \n",
    "\n",
    "I want to be able to easily pick out who started on what year or month. \n",
    "\n",
    "Can you write a program to help me with that?"
   ]
  },
  {
   "cell_type": "code",
   "execution_count": 13,
   "metadata": {},
   "outputs": [],
   "source": [
    "# new function that takes list of string entries (person and startdate) as input,\n",
    "# and spits out a list of entries filtered by matching either year or month (provided by calling code)\n",
    "def filter_by_start_date(startdates, datetype, filtervalue):\n",
    "    filtered_list = [] # new list to put the filtered stuff in\n",
    "    \n",
    "    # go through each entry in the list\n",
    "    for entry in startdates:\n",
    "        # parse the entry into a name and startdate, exploit the pattern that there is a space separator\n",
    "        name, startdate = entry.split(\" \")\n",
    "        # parse the startdate into year and month, exploit the pattern that there is a \n",
    "        year, month = startdate.split(\"-\")\n",
    "        # if calling code wants to filter by year\n",
    "        if datetype == \"year\":\n",
    "            # check if the year for this entry is the same as the target value\n",
    "            if year == filtervalue:\n",
    "                # and add to our filtered list if so\n",
    "                filtered_list.append((name, startdate))\n",
    "        # otherwise, if calling code wants to filter by year\n",
    "        elif datetype == \"month\":\n",
    "            # check if the year for this entry is the same as the target value\n",
    "            if month == filtervalue:\n",
    "                # and add to our filtered list if so\n",
    "                filtered_list.append((name, startdate))\n",
    "    \n",
    "    # give the filtered list back to the calling code\n",
    "    return filtered_list"
   ]
  },
  {
   "cell_type": "markdown",
   "metadata": {},
   "source": [
    "Ok let's test it!"
   ]
  },
  {
   "cell_type": "code",
   "execution_count": 14,
   "metadata": {},
   "outputs": [
    {
     "name": "stdout",
     "output_type": "stream",
     "text": [
      "Joel 2018-02\n",
      "Mercy 2018-01\n",
      "Mega 2018-05\n"
     ]
    }
   ],
   "source": [
    "# list of string entries\n",
    "starts = [\n",
    "    \"Joel 2018-02\",\n",
    "    \"Polly 2021-02\",\n",
    "    \"Mercy 2018-01\",\n",
    "    \"QC 2020-03\",\n",
    "    \"Jim 2021-10\",\n",
    "    \"Mega 2018-05\"\n",
    "]\n",
    "# filter for those who started in 2018\n",
    "filtered_starts = filter_by_start_date(starts, \"year\", \"2018\")\n",
    "\n",
    "# and print out filtered entries line by line:\n",
    "# loop through the entries\n",
    "for name, startdate in filtered_starts:\n",
    "    # print the entry out\n",
    "    print(name, startdate)"
   ]
  },
  {
   "cell_type": "code",
   "execution_count": null,
   "metadata": {},
   "outputs": [],
   "source": []
  }
 ],
 "metadata": {
  "kernelspec": {
   "display_name": "Python 3",
   "language": "python",
   "name": "python3"
  },
  "language_info": {
   "codemirror_mode": {
    "name": "ipython",
    "version": 3
   },
   "file_extension": ".py",
   "mimetype": "text/x-python",
   "name": "python",
   "nbconvert_exporter": "python",
   "pygments_lexer": "ipython3",
   "version": "3.6.5"
  },
  "toc": {
   "base_numbering": 1,
   "nav_menu": {},
   "number_sections": true,
   "sideBar": true,
   "skip_h1_title": false,
   "title_cell": "Table of Contents",
   "title_sidebar": "Contents",
   "toc_cell": false,
   "toc_position": {},
   "toc_section_display": true,
   "toc_window_display": false
  }
 },
 "nbformat": 4,
 "nbformat_minor": 2
}
